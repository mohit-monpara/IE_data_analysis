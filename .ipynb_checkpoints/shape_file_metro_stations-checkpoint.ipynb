{
 "cells": [
  {
   "cell_type": "markdown",
   "metadata": {},
   "source": [
    "### Reading the required libraries"
   ]
  },
  {
   "cell_type": "code",
   "execution_count": 1,
   "metadata": {
    "collapsed": true
   },
   "outputs": [],
   "source": [
    "import shapefile #the pyshp module\n",
    "import pandas as pd\n",
    "import numpy as np\n",
    "import re"
   ]
  },
  {
   "cell_type": "code",
   "execution_count": 2,
   "metadata": {
    "collapsed": true
   },
   "outputs": [],
   "source": [
    "# Reading the shape files from the path\n",
    "shapefile_path = r'll_gda94/sde_shape/whole/VIC/PTV/layer/ptv_metro_train_station.shp'\n",
    "sf = shapefile.Reader(shapefile_path)"
   ]
  },
  {
   "cell_type": "code",
   "execution_count": 3,
   "metadata": {
    "collapsed": true
   },
   "outputs": [],
   "source": [
    "# Assigning variables to extract the fields\n",
    "fields = [x[0] for x in sf.fields][1:]\n",
    "records = sf.records()\n",
    "shps = [s.points for s in sf.shapes()]\n",
    "\n",
    "#write the records into a dataframe\n",
    "shapefile_dataframe = pd.DataFrame(columns=fields, data=records)"
   ]
  },
  {
   "cell_type": "code",
   "execution_count": 4,
   "metadata": {},
   "outputs": [
    {
     "data": {
      "text/html": [
       "<div>\n",
       "<style>\n",
       "    .dataframe thead tr:only-child th {\n",
       "        text-align: right;\n",
       "    }\n",
       "\n",
       "    .dataframe thead th {\n",
       "        text-align: left;\n",
       "    }\n",
       "\n",
       "    .dataframe tbody tr th {\n",
       "        vertical-align: top;\n",
       "    }\n",
       "</style>\n",
       "<table border=\"1\" class=\"dataframe\">\n",
       "  <thead>\n",
       "    <tr style=\"text-align: right;\">\n",
       "      <th></th>\n",
       "      <th>STOP_ID</th>\n",
       "      <th>STOP_NAME</th>\n",
       "      <th>LATITUDE</th>\n",
       "      <th>LONGITUDE</th>\n",
       "      <th>TICKETZONE</th>\n",
       "      <th>ROUTEUSSP</th>\n",
       "    </tr>\n",
       "  </thead>\n",
       "  <tbody>\n",
       "    <tr>\n",
       "      <th>0</th>\n",
       "      <td>19966</td>\n",
       "      <td>Moreland Railway Station (Coburg)</td>\n",
       "      <td>-37.754485</td>\n",
       "      <td>144.961823</td>\n",
       "      <td>1</td>\n",
       "      <td>Upfield</td>\n",
       "    </tr>\n",
       "    <tr>\n",
       "      <th>1</th>\n",
       "      <td>19967</td>\n",
       "      <td>Anstey Railway Station (Brunswick)</td>\n",
       "      <td>-37.761242</td>\n",
       "      <td>144.960684</td>\n",
       "      <td>1</td>\n",
       "      <td>Upfield</td>\n",
       "    </tr>\n",
       "    <tr>\n",
       "      <th>2</th>\n",
       "      <td>19968</td>\n",
       "      <td>Brunswick Railway Station (Brunswick)</td>\n",
       "      <td>-37.767721</td>\n",
       "      <td>144.959587</td>\n",
       "      <td>1</td>\n",
       "      <td>Upfield</td>\n",
       "    </tr>\n",
       "    <tr>\n",
       "      <th>3</th>\n",
       "      <td>19969</td>\n",
       "      <td>Jewell Railway Station (Brunswick)</td>\n",
       "      <td>-37.774987</td>\n",
       "      <td>144.958717</td>\n",
       "      <td>1</td>\n",
       "      <td>Upfield</td>\n",
       "    </tr>\n",
       "    <tr>\n",
       "      <th>4</th>\n",
       "      <td>19970</td>\n",
       "      <td>Royal Park Railway Station (Parkville)</td>\n",
       "      <td>-37.781193</td>\n",
       "      <td>144.952301</td>\n",
       "      <td>1</td>\n",
       "      <td>Upfield</td>\n",
       "    </tr>\n",
       "  </tbody>\n",
       "</table>\n",
       "</div>"
      ],
      "text/plain": [
       "  STOP_ID                               STOP_NAME   LATITUDE   LONGITUDE  \\\n",
       "0   19966       Moreland Railway Station (Coburg) -37.754485  144.961823   \n",
       "1   19967      Anstey Railway Station (Brunswick) -37.761242  144.960684   \n",
       "2   19968   Brunswick Railway Station (Brunswick) -37.767721  144.959587   \n",
       "3   19969      Jewell Railway Station (Brunswick) -37.774987  144.958717   \n",
       "4   19970  Royal Park Railway Station (Parkville) -37.781193  144.952301   \n",
       "\n",
       "  TICKETZONE ROUTEUSSP  \n",
       "0          1   Upfield  \n",
       "1          1   Upfield  \n",
       "2          1   Upfield  \n",
       "3          1   Upfield  \n",
       "4          1   Upfield  "
      ]
     },
     "execution_count": 4,
     "metadata": {},
     "output_type": "execute_result"
    }
   ],
   "source": [
    "shapefile_dataframe.head()"
   ]
  },
  {
   "cell_type": "code",
   "execution_count": 5,
   "metadata": {
    "collapsed": true
   },
   "outputs": [],
   "source": [
    "#add the coordinate data to a column called \"coords\"\n",
    "shapefile_dataframe = shapefile_dataframe.assign(coords=shps)"
   ]
  },
  {
   "cell_type": "code",
   "execution_count": 6,
   "metadata": {
    "scrolled": true
   },
   "outputs": [
    {
     "data": {
      "text/html": [
       "<div>\n",
       "<style>\n",
       "    .dataframe thead tr:only-child th {\n",
       "        text-align: right;\n",
       "    }\n",
       "\n",
       "    .dataframe thead th {\n",
       "        text-align: left;\n",
       "    }\n",
       "\n",
       "    .dataframe tbody tr th {\n",
       "        vertical-align: top;\n",
       "    }\n",
       "</style>\n",
       "<table border=\"1\" class=\"dataframe\">\n",
       "  <thead>\n",
       "    <tr style=\"text-align: right;\">\n",
       "      <th></th>\n",
       "      <th>STOP_ID</th>\n",
       "      <th>STOP_NAME</th>\n",
       "      <th>LATITUDE</th>\n",
       "      <th>LONGITUDE</th>\n",
       "      <th>TICKETZONE</th>\n",
       "      <th>ROUTEUSSP</th>\n",
       "      <th>coords</th>\n",
       "    </tr>\n",
       "  </thead>\n",
       "  <tbody>\n",
       "    <tr>\n",
       "      <th>0</th>\n",
       "      <td>19966</td>\n",
       "      <td>Moreland Railway Station (Coburg)</td>\n",
       "      <td>-37.754485</td>\n",
       "      <td>144.961823</td>\n",
       "      <td>1</td>\n",
       "      <td>Upfield</td>\n",
       "      <td>[[144.96182299999998, -37.754484999]]</td>\n",
       "    </tr>\n",
       "    <tr>\n",
       "      <th>1</th>\n",
       "      <td>19967</td>\n",
       "      <td>Anstey Railway Station (Brunswick)</td>\n",
       "      <td>-37.761242</td>\n",
       "      <td>144.960684</td>\n",
       "      <td>1</td>\n",
       "      <td>Upfield</td>\n",
       "      <td>[[144.96068400000001, -37.76124199899999]]</td>\n",
       "    </tr>\n",
       "    <tr>\n",
       "      <th>2</th>\n",
       "      <td>19968</td>\n",
       "      <td>Brunswick Railway Station (Brunswick)</td>\n",
       "      <td>-37.767721</td>\n",
       "      <td>144.959587</td>\n",
       "      <td>1</td>\n",
       "      <td>Upfield</td>\n",
       "      <td>[[144.95958700000006, -37.767720999000005]]</td>\n",
       "    </tr>\n",
       "    <tr>\n",
       "      <th>3</th>\n",
       "      <td>19969</td>\n",
       "      <td>Jewell Railway Station (Brunswick)</td>\n",
       "      <td>-37.774987</td>\n",
       "      <td>144.958717</td>\n",
       "      <td>1</td>\n",
       "      <td>Upfield</td>\n",
       "      <td>[[144.95871699999998, -37.774986998999964]]</td>\n",
       "    </tr>\n",
       "    <tr>\n",
       "      <th>4</th>\n",
       "      <td>19970</td>\n",
       "      <td>Royal Park Railway Station (Parkville)</td>\n",
       "      <td>-37.781193</td>\n",
       "      <td>144.952301</td>\n",
       "      <td>1</td>\n",
       "      <td>Upfield</td>\n",
       "      <td>[[144.95230100000003, -37.781192998999984]]</td>\n",
       "    </tr>\n",
       "  </tbody>\n",
       "</table>\n",
       "</div>"
      ],
      "text/plain": [
       "  STOP_ID                               STOP_NAME   LATITUDE   LONGITUDE  \\\n",
       "0   19966       Moreland Railway Station (Coburg) -37.754485  144.961823   \n",
       "1   19967      Anstey Railway Station (Brunswick) -37.761242  144.960684   \n",
       "2   19968   Brunswick Railway Station (Brunswick) -37.767721  144.959587   \n",
       "3   19969      Jewell Railway Station (Brunswick) -37.774987  144.958717   \n",
       "4   19970  Royal Park Railway Station (Parkville) -37.781193  144.952301   \n",
       "\n",
       "  TICKETZONE ROUTEUSSP                                       coords  \n",
       "0          1   Upfield        [[144.96182299999998, -37.754484999]]  \n",
       "1          1   Upfield   [[144.96068400000001, -37.76124199899999]]  \n",
       "2          1   Upfield  [[144.95958700000006, -37.767720999000005]]  \n",
       "3          1   Upfield  [[144.95871699999998, -37.774986998999964]]  \n",
       "4          1   Upfield  [[144.95230100000003, -37.781192998999984]]  "
      ]
     },
     "execution_count": 6,
     "metadata": {},
     "output_type": "execute_result"
    }
   ],
   "source": [
    "shapefile_dataframe.head()"
   ]
  },
  {
   "cell_type": "code",
   "execution_count": 7,
   "metadata": {},
   "outputs": [
    {
     "data": {
      "text/plain": [
       "(217, 7)"
      ]
     },
     "execution_count": 7,
     "metadata": {},
     "output_type": "execute_result"
    }
   ],
   "source": [
    "shapefile_dataframe.shape"
   ]
  },
  {
   "cell_type": "code",
   "execution_count": 8,
   "metadata": {
    "collapsed": true
   },
   "outputs": [],
   "source": [
    "\n",
    "\n",
    "# shapefile_path = r'll_gda94/sde_shape/whole/VIC/PTV/layer/ptv_train_station_platform.shp'\n",
    "# sf = shapefile.Reader(shapefile_path)\n",
    "\n",
    "# fields = [x[0] for x in sf.fields][1:]\n",
    "# records = sf.records()\n",
    "# shps = [s.points for s in sf.shapes()]\n",
    "\n",
    "# #write the records into a dataframe\n",
    "# shapefile_dataframe1 = pd.DataFrame(columns=fields, data=records)\n",
    "# shapefile_dataframe1 = shapefile_dataframe1.assign(coords=shps)"
   ]
  },
  {
   "cell_type": "code",
   "execution_count": 9,
   "metadata": {
    "collapsed": true
   },
   "outputs": [],
   "source": [
    "# shapefile_dataframe1.head()"
   ]
  },
  {
   "cell_type": "code",
   "execution_count": 10,
   "metadata": {},
   "outputs": [
    {
     "data": {
      "text/html": [
       "<div>\n",
       "<style>\n",
       "    .dataframe thead tr:only-child th {\n",
       "        text-align: right;\n",
       "    }\n",
       "\n",
       "    .dataframe thead th {\n",
       "        text-align: left;\n",
       "    }\n",
       "\n",
       "    .dataframe tbody tr th {\n",
       "        vertical-align: top;\n",
       "    }\n",
       "</style>\n",
       "<table border=\"1\" class=\"dataframe\">\n",
       "  <thead>\n",
       "    <tr style=\"text-align: right;\">\n",
       "      <th></th>\n",
       "      <th>STOP_ID</th>\n",
       "      <th>STOP_NAME</th>\n",
       "      <th>LATITUDE</th>\n",
       "      <th>LONGITUDE</th>\n",
       "      <th>TICKETZONE</th>\n",
       "      <th>ROUTEUSSP</th>\n",
       "      <th>coords</th>\n",
       "    </tr>\n",
       "  </thead>\n",
       "  <tbody>\n",
       "    <tr>\n",
       "      <th>0</th>\n",
       "      <td>19966</td>\n",
       "      <td>Moreland Railway Station (Coburg)</td>\n",
       "      <td>-37.754485</td>\n",
       "      <td>144.961823</td>\n",
       "      <td>1</td>\n",
       "      <td>Upfield</td>\n",
       "      <td>[[144.96182299999998, -37.754484999]]</td>\n",
       "    </tr>\n",
       "    <tr>\n",
       "      <th>1</th>\n",
       "      <td>19967</td>\n",
       "      <td>Anstey Railway Station (Brunswick)</td>\n",
       "      <td>-37.761242</td>\n",
       "      <td>144.960684</td>\n",
       "      <td>1</td>\n",
       "      <td>Upfield</td>\n",
       "      <td>[[144.96068400000001, -37.76124199899999]]</td>\n",
       "    </tr>\n",
       "    <tr>\n",
       "      <th>2</th>\n",
       "      <td>19968</td>\n",
       "      <td>Brunswick Railway Station (Brunswick)</td>\n",
       "      <td>-37.767721</td>\n",
       "      <td>144.959587</td>\n",
       "      <td>1</td>\n",
       "      <td>Upfield</td>\n",
       "      <td>[[144.95958700000006, -37.767720999000005]]</td>\n",
       "    </tr>\n",
       "    <tr>\n",
       "      <th>3</th>\n",
       "      <td>19969</td>\n",
       "      <td>Jewell Railway Station (Brunswick)</td>\n",
       "      <td>-37.774987</td>\n",
       "      <td>144.958717</td>\n",
       "      <td>1</td>\n",
       "      <td>Upfield</td>\n",
       "      <td>[[144.95871699999998, -37.774986998999964]]</td>\n",
       "    </tr>\n",
       "    <tr>\n",
       "      <th>4</th>\n",
       "      <td>19970</td>\n",
       "      <td>Royal Park Railway Station (Parkville)</td>\n",
       "      <td>-37.781193</td>\n",
       "      <td>144.952301</td>\n",
       "      <td>1</td>\n",
       "      <td>Upfield</td>\n",
       "      <td>[[144.95230100000003, -37.781192998999984]]</td>\n",
       "    </tr>\n",
       "  </tbody>\n",
       "</table>\n",
       "</div>"
      ],
      "text/plain": [
       "  STOP_ID                               STOP_NAME   LATITUDE   LONGITUDE  \\\n",
       "0   19966       Moreland Railway Station (Coburg) -37.754485  144.961823   \n",
       "1   19967      Anstey Railway Station (Brunswick) -37.761242  144.960684   \n",
       "2   19968   Brunswick Railway Station (Brunswick) -37.767721  144.959587   \n",
       "3   19969      Jewell Railway Station (Brunswick) -37.774987  144.958717   \n",
       "4   19970  Royal Park Railway Station (Parkville) -37.781193  144.952301   \n",
       "\n",
       "  TICKETZONE ROUTEUSSP                                       coords  \n",
       "0          1   Upfield        [[144.96182299999998, -37.754484999]]  \n",
       "1          1   Upfield   [[144.96068400000001, -37.76124199899999]]  \n",
       "2          1   Upfield  [[144.95958700000006, -37.767720999000005]]  \n",
       "3          1   Upfield  [[144.95871699999998, -37.774986998999964]]  \n",
       "4          1   Upfield  [[144.95230100000003, -37.781192998999984]]  "
      ]
     },
     "execution_count": 10,
     "metadata": {},
     "output_type": "execute_result"
    }
   ],
   "source": [
    "shapefile_dataframe.head()"
   ]
  },
  {
   "cell_type": "code",
   "execution_count": 11,
   "metadata": {
    "collapsed": true
   },
   "outputs": [],
   "source": [
    "shapefile_dataframe['phone_number'] = ''\n",
    "shapefile_dataframe['suburb'] = ''\n",
    "shapefile_dataframe['post_code'] = ''\n",
    "shapefile_dataframe['city'] = 'Melbourne'\n",
    "shapefile_dataframe['country'] = 'Australia'\n",
    "shapefile_dataframe['type'] = 'Train'\n",
    "shapefile_dataframe['address'] = ''"
   ]
  },
  {
   "cell_type": "code",
   "execution_count": 12,
   "metadata": {
    "collapsed": true
   },
   "outputs": [],
   "source": [
    "# shapefile_dataframe = shapefile_dataframe[['STOP_NAME', 'LATITUDE', 'LONGITUDE']]"
   ]
  },
  {
   "cell_type": "code",
   "execution_count": 13,
   "metadata": {},
   "outputs": [
    {
     "data": {
      "text/html": [
       "<div>\n",
       "<style>\n",
       "    .dataframe thead tr:only-child th {\n",
       "        text-align: right;\n",
       "    }\n",
       "\n",
       "    .dataframe thead th {\n",
       "        text-align: left;\n",
       "    }\n",
       "\n",
       "    .dataframe tbody tr th {\n",
       "        vertical-align: top;\n",
       "    }\n",
       "</style>\n",
       "<table border=\"1\" class=\"dataframe\">\n",
       "  <thead>\n",
       "    <tr style=\"text-align: right;\">\n",
       "      <th></th>\n",
       "      <th>STOP_ID</th>\n",
       "      <th>STOP_NAME</th>\n",
       "      <th>LATITUDE</th>\n",
       "      <th>LONGITUDE</th>\n",
       "      <th>TICKETZONE</th>\n",
       "      <th>ROUTEUSSP</th>\n",
       "      <th>coords</th>\n",
       "      <th>phone_number</th>\n",
       "      <th>suburb</th>\n",
       "      <th>post_code</th>\n",
       "      <th>city</th>\n",
       "      <th>country</th>\n",
       "      <th>type</th>\n",
       "      <th>address</th>\n",
       "    </tr>\n",
       "  </thead>\n",
       "  <tbody>\n",
       "    <tr>\n",
       "      <th>0</th>\n",
       "      <td>19966</td>\n",
       "      <td>Moreland Railway Station (Coburg)</td>\n",
       "      <td>-37.754485</td>\n",
       "      <td>144.961823</td>\n",
       "      <td>1</td>\n",
       "      <td>Upfield</td>\n",
       "      <td>[[144.96182299999998, -37.754484999]]</td>\n",
       "      <td></td>\n",
       "      <td></td>\n",
       "      <td></td>\n",
       "      <td>Melbourne</td>\n",
       "      <td>Australia</td>\n",
       "      <td>Train</td>\n",
       "      <td></td>\n",
       "    </tr>\n",
       "    <tr>\n",
       "      <th>1</th>\n",
       "      <td>19967</td>\n",
       "      <td>Anstey Railway Station (Brunswick)</td>\n",
       "      <td>-37.761242</td>\n",
       "      <td>144.960684</td>\n",
       "      <td>1</td>\n",
       "      <td>Upfield</td>\n",
       "      <td>[[144.96068400000001, -37.76124199899999]]</td>\n",
       "      <td></td>\n",
       "      <td></td>\n",
       "      <td></td>\n",
       "      <td>Melbourne</td>\n",
       "      <td>Australia</td>\n",
       "      <td>Train</td>\n",
       "      <td></td>\n",
       "    </tr>\n",
       "    <tr>\n",
       "      <th>2</th>\n",
       "      <td>19968</td>\n",
       "      <td>Brunswick Railway Station (Brunswick)</td>\n",
       "      <td>-37.767721</td>\n",
       "      <td>144.959587</td>\n",
       "      <td>1</td>\n",
       "      <td>Upfield</td>\n",
       "      <td>[[144.95958700000006, -37.767720999000005]]</td>\n",
       "      <td></td>\n",
       "      <td></td>\n",
       "      <td></td>\n",
       "      <td>Melbourne</td>\n",
       "      <td>Australia</td>\n",
       "      <td>Train</td>\n",
       "      <td></td>\n",
       "    </tr>\n",
       "    <tr>\n",
       "      <th>3</th>\n",
       "      <td>19969</td>\n",
       "      <td>Jewell Railway Station (Brunswick)</td>\n",
       "      <td>-37.774987</td>\n",
       "      <td>144.958717</td>\n",
       "      <td>1</td>\n",
       "      <td>Upfield</td>\n",
       "      <td>[[144.95871699999998, -37.774986998999964]]</td>\n",
       "      <td></td>\n",
       "      <td></td>\n",
       "      <td></td>\n",
       "      <td>Melbourne</td>\n",
       "      <td>Australia</td>\n",
       "      <td>Train</td>\n",
       "      <td></td>\n",
       "    </tr>\n",
       "    <tr>\n",
       "      <th>4</th>\n",
       "      <td>19970</td>\n",
       "      <td>Royal Park Railway Station (Parkville)</td>\n",
       "      <td>-37.781193</td>\n",
       "      <td>144.952301</td>\n",
       "      <td>1</td>\n",
       "      <td>Upfield</td>\n",
       "      <td>[[144.95230100000003, -37.781192998999984]]</td>\n",
       "      <td></td>\n",
       "      <td></td>\n",
       "      <td></td>\n",
       "      <td>Melbourne</td>\n",
       "      <td>Australia</td>\n",
       "      <td>Train</td>\n",
       "      <td></td>\n",
       "    </tr>\n",
       "  </tbody>\n",
       "</table>\n",
       "</div>"
      ],
      "text/plain": [
       "  STOP_ID                               STOP_NAME   LATITUDE   LONGITUDE  \\\n",
       "0   19966       Moreland Railway Station (Coburg) -37.754485  144.961823   \n",
       "1   19967      Anstey Railway Station (Brunswick) -37.761242  144.960684   \n",
       "2   19968   Brunswick Railway Station (Brunswick) -37.767721  144.959587   \n",
       "3   19969      Jewell Railway Station (Brunswick) -37.774987  144.958717   \n",
       "4   19970  Royal Park Railway Station (Parkville) -37.781193  144.952301   \n",
       "\n",
       "  TICKETZONE ROUTEUSSP                                       coords  \\\n",
       "0          1   Upfield        [[144.96182299999998, -37.754484999]]   \n",
       "1          1   Upfield   [[144.96068400000001, -37.76124199899999]]   \n",
       "2          1   Upfield  [[144.95958700000006, -37.767720999000005]]   \n",
       "3          1   Upfield  [[144.95871699999998, -37.774986998999964]]   \n",
       "4          1   Upfield  [[144.95230100000003, -37.781192998999984]]   \n",
       "\n",
       "  phone_number suburb post_code       city    country   type address  \n",
       "0                                Melbourne  Australia  Train          \n",
       "1                                Melbourne  Australia  Train          \n",
       "2                                Melbourne  Australia  Train          \n",
       "3                                Melbourne  Australia  Train          \n",
       "4                                Melbourne  Australia  Train          "
      ]
     },
     "execution_count": 13,
     "metadata": {},
     "output_type": "execute_result"
    }
   ],
   "source": [
    "shapefile_dataframe.head()"
   ]
  },
  {
   "cell_type": "code",
   "execution_count": 14,
   "metadata": {
    "collapsed": true
   },
   "outputs": [],
   "source": [
    "shapefile_dataframe = shapefile_dataframe[['STOP_NAME','address','phone_number','suburb','post_code', 'city', 'country','LATITUDE', 'LONGITUDE', 'type']]"
   ]
  },
  {
   "cell_type": "code",
   "execution_count": 15,
   "metadata": {},
   "outputs": [
    {
     "data": {
      "text/html": [
       "<div>\n",
       "<style>\n",
       "    .dataframe thead tr:only-child th {\n",
       "        text-align: right;\n",
       "    }\n",
       "\n",
       "    .dataframe thead th {\n",
       "        text-align: left;\n",
       "    }\n",
       "\n",
       "    .dataframe tbody tr th {\n",
       "        vertical-align: top;\n",
       "    }\n",
       "</style>\n",
       "<table border=\"1\" class=\"dataframe\">\n",
       "  <thead>\n",
       "    <tr style=\"text-align: right;\">\n",
       "      <th></th>\n",
       "      <th>STOP_NAME</th>\n",
       "      <th>address</th>\n",
       "      <th>phone_number</th>\n",
       "      <th>suburb</th>\n",
       "      <th>post_code</th>\n",
       "      <th>city</th>\n",
       "      <th>country</th>\n",
       "      <th>LATITUDE</th>\n",
       "      <th>LONGITUDE</th>\n",
       "      <th>type</th>\n",
       "    </tr>\n",
       "  </thead>\n",
       "  <tbody>\n",
       "    <tr>\n",
       "      <th>0</th>\n",
       "      <td>Moreland Railway Station (Coburg)</td>\n",
       "      <td></td>\n",
       "      <td></td>\n",
       "      <td></td>\n",
       "      <td></td>\n",
       "      <td>Melbourne</td>\n",
       "      <td>Australia</td>\n",
       "      <td>-37.754485</td>\n",
       "      <td>144.961823</td>\n",
       "      <td>Train</td>\n",
       "    </tr>\n",
       "    <tr>\n",
       "      <th>1</th>\n",
       "      <td>Anstey Railway Station (Brunswick)</td>\n",
       "      <td></td>\n",
       "      <td></td>\n",
       "      <td></td>\n",
       "      <td></td>\n",
       "      <td>Melbourne</td>\n",
       "      <td>Australia</td>\n",
       "      <td>-37.761242</td>\n",
       "      <td>144.960684</td>\n",
       "      <td>Train</td>\n",
       "    </tr>\n",
       "    <tr>\n",
       "      <th>2</th>\n",
       "      <td>Brunswick Railway Station (Brunswick)</td>\n",
       "      <td></td>\n",
       "      <td></td>\n",
       "      <td></td>\n",
       "      <td></td>\n",
       "      <td>Melbourne</td>\n",
       "      <td>Australia</td>\n",
       "      <td>-37.767721</td>\n",
       "      <td>144.959587</td>\n",
       "      <td>Train</td>\n",
       "    </tr>\n",
       "    <tr>\n",
       "      <th>3</th>\n",
       "      <td>Jewell Railway Station (Brunswick)</td>\n",
       "      <td></td>\n",
       "      <td></td>\n",
       "      <td></td>\n",
       "      <td></td>\n",
       "      <td>Melbourne</td>\n",
       "      <td>Australia</td>\n",
       "      <td>-37.774987</td>\n",
       "      <td>144.958717</td>\n",
       "      <td>Train</td>\n",
       "    </tr>\n",
       "    <tr>\n",
       "      <th>4</th>\n",
       "      <td>Royal Park Railway Station (Parkville)</td>\n",
       "      <td></td>\n",
       "      <td></td>\n",
       "      <td></td>\n",
       "      <td></td>\n",
       "      <td>Melbourne</td>\n",
       "      <td>Australia</td>\n",
       "      <td>-37.781193</td>\n",
       "      <td>144.952301</td>\n",
       "      <td>Train</td>\n",
       "    </tr>\n",
       "  </tbody>\n",
       "</table>\n",
       "</div>"
      ],
      "text/plain": [
       "                                STOP_NAME address phone_number suburb  \\\n",
       "0       Moreland Railway Station (Coburg)                               \n",
       "1      Anstey Railway Station (Brunswick)                               \n",
       "2   Brunswick Railway Station (Brunswick)                               \n",
       "3      Jewell Railway Station (Brunswick)                               \n",
       "4  Royal Park Railway Station (Parkville)                               \n",
       "\n",
       "  post_code       city    country   LATITUDE   LONGITUDE   type  \n",
       "0            Melbourne  Australia -37.754485  144.961823  Train  \n",
       "1            Melbourne  Australia -37.761242  144.960684  Train  \n",
       "2            Melbourne  Australia -37.767721  144.959587  Train  \n",
       "3            Melbourne  Australia -37.774987  144.958717  Train  \n",
       "4            Melbourne  Australia -37.781193  144.952301  Train  "
      ]
     },
     "execution_count": 15,
     "metadata": {},
     "output_type": "execute_result"
    }
   ],
   "source": [
    "shapefile_dataframe.head()"
   ]
  },
  {
   "cell_type": "code",
   "execution_count": 16,
   "metadata": {
    "collapsed": true
   },
   "outputs": [],
   "source": [
    "shapefile_dataframe = shapefile_dataframe.replace(np.nan, '', regex=True)"
   ]
  },
  {
   "cell_type": "code",
   "execution_count": 17,
   "metadata": {
    "collapsed": true
   },
   "outputs": [],
   "source": [
    "# Check with the suburb information and fill the post_code features"
   ]
  },
  {
   "cell_type": "code",
   "execution_count": 18,
   "metadata": {},
   "outputs": [
    {
     "data": {
      "text/plain": [
       "STOP_NAME        object\n",
       "address          object\n",
       "phone_number     object\n",
       "suburb           object\n",
       "post_code        object\n",
       "city             object\n",
       "country          object\n",
       "LATITUDE        float64\n",
       "LONGITUDE       float64\n",
       "type             object\n",
       "dtype: object"
      ]
     },
     "execution_count": 18,
     "metadata": {},
     "output_type": "execute_result"
    }
   ],
   "source": [
    "shapefile_dataframe.dtypes\n",
    "# shapefile_dataframe.head()"
   ]
  },
  {
   "cell_type": "code",
   "execution_count": 19,
   "metadata": {
    "collapsed": true
   },
   "outputs": [],
   "source": [
    "# shapefile_dataframe1 = shapefile_dataframe.copy()"
   ]
  },
  {
   "cell_type": "code",
   "execution_count": 20,
   "metadata": {},
   "outputs": [
    {
     "data": {
      "text/html": [
       "<div>\n",
       "<style>\n",
       "    .dataframe thead tr:only-child th {\n",
       "        text-align: right;\n",
       "    }\n",
       "\n",
       "    .dataframe thead th {\n",
       "        text-align: left;\n",
       "    }\n",
       "\n",
       "    .dataframe tbody tr th {\n",
       "        vertical-align: top;\n",
       "    }\n",
       "</style>\n",
       "<table border=\"1\" class=\"dataframe\">\n",
       "  <thead>\n",
       "    <tr style=\"text-align: right;\">\n",
       "      <th></th>\n",
       "      <th>STOP_NAME</th>\n",
       "      <th>address</th>\n",
       "      <th>phone_number</th>\n",
       "      <th>suburb</th>\n",
       "      <th>post_code</th>\n",
       "      <th>city</th>\n",
       "      <th>country</th>\n",
       "      <th>LATITUDE</th>\n",
       "      <th>LONGITUDE</th>\n",
       "      <th>type</th>\n",
       "    </tr>\n",
       "  </thead>\n",
       "  <tbody>\n",
       "    <tr>\n",
       "      <th>0</th>\n",
       "      <td>Moreland Railway Station (Coburg)</td>\n",
       "      <td></td>\n",
       "      <td></td>\n",
       "      <td></td>\n",
       "      <td></td>\n",
       "      <td>Melbourne</td>\n",
       "      <td>Australia</td>\n",
       "      <td>-37.754485</td>\n",
       "      <td>144.961823</td>\n",
       "      <td>Train</td>\n",
       "    </tr>\n",
       "    <tr>\n",
       "      <th>1</th>\n",
       "      <td>Anstey Railway Station (Brunswick)</td>\n",
       "      <td></td>\n",
       "      <td></td>\n",
       "      <td></td>\n",
       "      <td></td>\n",
       "      <td>Melbourne</td>\n",
       "      <td>Australia</td>\n",
       "      <td>-37.761242</td>\n",
       "      <td>144.960684</td>\n",
       "      <td>Train</td>\n",
       "    </tr>\n",
       "    <tr>\n",
       "      <th>2</th>\n",
       "      <td>Brunswick Railway Station (Brunswick)</td>\n",
       "      <td></td>\n",
       "      <td></td>\n",
       "      <td></td>\n",
       "      <td></td>\n",
       "      <td>Melbourne</td>\n",
       "      <td>Australia</td>\n",
       "      <td>-37.767721</td>\n",
       "      <td>144.959587</td>\n",
       "      <td>Train</td>\n",
       "    </tr>\n",
       "    <tr>\n",
       "      <th>3</th>\n",
       "      <td>Jewell Railway Station (Brunswick)</td>\n",
       "      <td></td>\n",
       "      <td></td>\n",
       "      <td></td>\n",
       "      <td></td>\n",
       "      <td>Melbourne</td>\n",
       "      <td>Australia</td>\n",
       "      <td>-37.774987</td>\n",
       "      <td>144.958717</td>\n",
       "      <td>Train</td>\n",
       "    </tr>\n",
       "    <tr>\n",
       "      <th>4</th>\n",
       "      <td>Royal Park Railway Station (Parkville)</td>\n",
       "      <td></td>\n",
       "      <td></td>\n",
       "      <td></td>\n",
       "      <td></td>\n",
       "      <td>Melbourne</td>\n",
       "      <td>Australia</td>\n",
       "      <td>-37.781193</td>\n",
       "      <td>144.952301</td>\n",
       "      <td>Train</td>\n",
       "    </tr>\n",
       "  </tbody>\n",
       "</table>\n",
       "</div>"
      ],
      "text/plain": [
       "                                STOP_NAME address phone_number suburb  \\\n",
       "0       Moreland Railway Station (Coburg)                               \n",
       "1      Anstey Railway Station (Brunswick)                               \n",
       "2   Brunswick Railway Station (Brunswick)                               \n",
       "3      Jewell Railway Station (Brunswick)                               \n",
       "4  Royal Park Railway Station (Parkville)                               \n",
       "\n",
       "  post_code       city    country   LATITUDE   LONGITUDE   type  \n",
       "0            Melbourne  Australia -37.754485  144.961823  Train  \n",
       "1            Melbourne  Australia -37.761242  144.960684  Train  \n",
       "2            Melbourne  Australia -37.767721  144.959587  Train  \n",
       "3            Melbourne  Australia -37.774987  144.958717  Train  \n",
       "4            Melbourne  Australia -37.781193  144.952301  Train  "
      ]
     },
     "execution_count": 20,
     "metadata": {},
     "output_type": "execute_result"
    }
   ],
   "source": [
    "shapefile_dataframe.head()"
   ]
  },
  {
   "cell_type": "code",
   "execution_count": 21,
   "metadata": {},
   "outputs": [
    {
     "data": {
      "text/html": [
       "<div>\n",
       "<style>\n",
       "    .dataframe thead tr:only-child th {\n",
       "        text-align: right;\n",
       "    }\n",
       "\n",
       "    .dataframe thead th {\n",
       "        text-align: left;\n",
       "    }\n",
       "\n",
       "    .dataframe tbody tr th {\n",
       "        vertical-align: top;\n",
       "    }\n",
       "</style>\n",
       "<table border=\"1\" class=\"dataframe\">\n",
       "  <thead>\n",
       "    <tr style=\"text-align: right;\">\n",
       "      <th></th>\n",
       "      <th>STOP_NAME</th>\n",
       "      <th>address</th>\n",
       "      <th>phone_number</th>\n",
       "      <th>suburb</th>\n",
       "      <th>post_code</th>\n",
       "      <th>city</th>\n",
       "      <th>country</th>\n",
       "      <th>LATITUDE</th>\n",
       "      <th>LONGITUDE</th>\n",
       "      <th>type</th>\n",
       "      <th>suburb_name</th>\n",
       "    </tr>\n",
       "  </thead>\n",
       "  <tbody>\n",
       "    <tr>\n",
       "      <th>0</th>\n",
       "      <td>Moreland Railway Station</td>\n",
       "      <td></td>\n",
       "      <td></td>\n",
       "      <td></td>\n",
       "      <td></td>\n",
       "      <td>Melbourne</td>\n",
       "      <td>Australia</td>\n",
       "      <td>-37.754485</td>\n",
       "      <td>144.961823</td>\n",
       "      <td>Train</td>\n",
       "      <td>Coburg</td>\n",
       "    </tr>\n",
       "    <tr>\n",
       "      <th>1</th>\n",
       "      <td>Anstey Railway Station</td>\n",
       "      <td></td>\n",
       "      <td></td>\n",
       "      <td></td>\n",
       "      <td></td>\n",
       "      <td>Melbourne</td>\n",
       "      <td>Australia</td>\n",
       "      <td>-37.761242</td>\n",
       "      <td>144.960684</td>\n",
       "      <td>Train</td>\n",
       "      <td>Brunswick</td>\n",
       "    </tr>\n",
       "    <tr>\n",
       "      <th>2</th>\n",
       "      <td>Brunswick Railway Station</td>\n",
       "      <td></td>\n",
       "      <td></td>\n",
       "      <td></td>\n",
       "      <td></td>\n",
       "      <td>Melbourne</td>\n",
       "      <td>Australia</td>\n",
       "      <td>-37.767721</td>\n",
       "      <td>144.959587</td>\n",
       "      <td>Train</td>\n",
       "      <td>Brunswick</td>\n",
       "    </tr>\n",
       "    <tr>\n",
       "      <th>3</th>\n",
       "      <td>Jewell Railway Station</td>\n",
       "      <td></td>\n",
       "      <td></td>\n",
       "      <td></td>\n",
       "      <td></td>\n",
       "      <td>Melbourne</td>\n",
       "      <td>Australia</td>\n",
       "      <td>-37.774987</td>\n",
       "      <td>144.958717</td>\n",
       "      <td>Train</td>\n",
       "      <td>Brunswick</td>\n",
       "    </tr>\n",
       "    <tr>\n",
       "      <th>4</th>\n",
       "      <td>Royal Park Railway Station</td>\n",
       "      <td></td>\n",
       "      <td></td>\n",
       "      <td></td>\n",
       "      <td></td>\n",
       "      <td>Melbourne</td>\n",
       "      <td>Australia</td>\n",
       "      <td>-37.781193</td>\n",
       "      <td>144.952301</td>\n",
       "      <td>Train</td>\n",
       "      <td>Parkville</td>\n",
       "    </tr>\n",
       "    <tr>\n",
       "      <th>5</th>\n",
       "      <td>Flemington Bridge Railway Station</td>\n",
       "      <td></td>\n",
       "      <td></td>\n",
       "      <td></td>\n",
       "      <td></td>\n",
       "      <td>Melbourne</td>\n",
       "      <td>Australia</td>\n",
       "      <td>-37.788140</td>\n",
       "      <td>144.939323</td>\n",
       "      <td>Train</td>\n",
       "      <td>North Melbourne</td>\n",
       "    </tr>\n",
       "    <tr>\n",
       "      <th>6</th>\n",
       "      <td>Macaulay Railway Station</td>\n",
       "      <td></td>\n",
       "      <td></td>\n",
       "      <td></td>\n",
       "      <td></td>\n",
       "      <td>Melbourne</td>\n",
       "      <td>Australia</td>\n",
       "      <td>-37.794267</td>\n",
       "      <td>144.936166</td>\n",
       "      <td>Train</td>\n",
       "      <td>North Melbourne</td>\n",
       "    </tr>\n",
       "    <tr>\n",
       "      <th>7</th>\n",
       "      <td>North Melbourne Railway Station</td>\n",
       "      <td></td>\n",
       "      <td></td>\n",
       "      <td></td>\n",
       "      <td></td>\n",
       "      <td>Melbourne</td>\n",
       "      <td>Australia</td>\n",
       "      <td>-37.806310</td>\n",
       "      <td>144.941510</td>\n",
       "      <td>Train</td>\n",
       "      <td>West Melbourne</td>\n",
       "    </tr>\n",
       "    <tr>\n",
       "      <th>8</th>\n",
       "      <td>Clifton Hill Railway Station</td>\n",
       "      <td></td>\n",
       "      <td></td>\n",
       "      <td></td>\n",
       "      <td></td>\n",
       "      <td>Melbourne</td>\n",
       "      <td>Australia</td>\n",
       "      <td>-37.788657</td>\n",
       "      <td>144.995417</td>\n",
       "      <td>Train</td>\n",
       "      <td>Clifton Hill</td>\n",
       "    </tr>\n",
       "    <tr>\n",
       "      <th>9</th>\n",
       "      <td>Victoria Park Railway Station</td>\n",
       "      <td></td>\n",
       "      <td></td>\n",
       "      <td></td>\n",
       "      <td></td>\n",
       "      <td>Melbourne</td>\n",
       "      <td>Australia</td>\n",
       "      <td>-37.799158</td>\n",
       "      <td>144.994451</td>\n",
       "      <td>Train</td>\n",
       "      <td>Abbotsford</td>\n",
       "    </tr>\n",
       "  </tbody>\n",
       "</table>\n",
       "</div>"
      ],
      "text/plain": [
       "                            STOP_NAME address phone_number suburb post_code  \\\n",
       "0           Moreland Railway Station                                          \n",
       "1             Anstey Railway Station                                          \n",
       "2          Brunswick Railway Station                                          \n",
       "3             Jewell Railway Station                                          \n",
       "4         Royal Park Railway Station                                          \n",
       "5  Flemington Bridge Railway Station                                          \n",
       "6           Macaulay Railway Station                                          \n",
       "7    North Melbourne Railway Station                                          \n",
       "8       Clifton Hill Railway Station                                          \n",
       "9      Victoria Park Railway Station                                          \n",
       "\n",
       "        city    country   LATITUDE   LONGITUDE   type      suburb_name  \n",
       "0  Melbourne  Australia -37.754485  144.961823  Train           Coburg  \n",
       "1  Melbourne  Australia -37.761242  144.960684  Train        Brunswick  \n",
       "2  Melbourne  Australia -37.767721  144.959587  Train        Brunswick  \n",
       "3  Melbourne  Australia -37.774987  144.958717  Train        Brunswick  \n",
       "4  Melbourne  Australia -37.781193  144.952301  Train        Parkville  \n",
       "5  Melbourne  Australia -37.788140  144.939323  Train  North Melbourne  \n",
       "6  Melbourne  Australia -37.794267  144.936166  Train  North Melbourne  \n",
       "7  Melbourne  Australia -37.806310  144.941510  Train   West Melbourne  \n",
       "8  Melbourne  Australia -37.788657  144.995417  Train     Clifton Hill  \n",
       "9  Melbourne  Australia -37.799158  144.994451  Train       Abbotsford  "
      ]
     },
     "execution_count": 21,
     "metadata": {},
     "output_type": "execute_result"
    }
   ],
   "source": [
    "shapefile_dataframe['suburb_name'] = shapefile_dataframe['STOP_NAME'].apply(lambda x: re.findall('\\((.*?)\\)',x)).str[0]\n",
    "shapefile_dataframe['STOP_NAME'] = shapefile_dataframe['STOP_NAME'].str.replace(r\"\\(.*\\)\",\"\")\n",
    "shapefile_dataframe.head(10)"
   ]
  },
  {
   "cell_type": "code",
   "execution_count": null,
   "metadata": {
    "collapsed": true
   },
   "outputs": [],
   "source": []
  },
  {
   "cell_type": "markdown",
   "metadata": {},
   "source": [
    "## Read the suburb information for providing the suburb post code of the location"
   ]
  },
  {
   "cell_type": "code",
   "execution_count": 22,
   "metadata": {
    "collapsed": true
   },
   "outputs": [],
   "source": [
    "df_suburbs = pd.read_csv('C:/Users/Mohit Monpara/Desktop/IE/New Data Sources/suburbs_postcode.csv')"
   ]
  },
  {
   "cell_type": "code",
   "execution_count": 23,
   "metadata": {},
   "outputs": [
    {
     "data": {
      "text/html": [
       "<div>\n",
       "<style>\n",
       "    .dataframe thead tr:only-child th {\n",
       "        text-align: right;\n",
       "    }\n",
       "\n",
       "    .dataframe thead th {\n",
       "        text-align: left;\n",
       "    }\n",
       "\n",
       "    .dataframe tbody tr th {\n",
       "        vertical-align: top;\n",
       "    }\n",
       "</style>\n",
       "<table border=\"1\" class=\"dataframe\">\n",
       "  <thead>\n",
       "    <tr style=\"text-align: right;\">\n",
       "      <th></th>\n",
       "      <th>PC</th>\n",
       "      <th>Suburbs</th>\n",
       "    </tr>\n",
       "  </thead>\n",
       "  <tbody>\n",
       "    <tr>\n",
       "      <th>0</th>\n",
       "      <td>3000</td>\n",
       "      <td>Melbourne Cbd</td>\n",
       "    </tr>\n",
       "    <tr>\n",
       "      <th>1</th>\n",
       "      <td>3002</td>\n",
       "      <td>East Melbourne, Jolimont</td>\n",
       "    </tr>\n",
       "    <tr>\n",
       "      <th>2</th>\n",
       "      <td>3004</td>\n",
       "      <td>Melbourne</td>\n",
       "    </tr>\n",
       "    <tr>\n",
       "      <th>3</th>\n",
       "      <td>3006</td>\n",
       "      <td>Southbank</td>\n",
       "    </tr>\n",
       "    <tr>\n",
       "      <th>4</th>\n",
       "      <td>3011</td>\n",
       "      <td>Coode Island, Footscray, Footscray West, Seddon</td>\n",
       "    </tr>\n",
       "  </tbody>\n",
       "</table>\n",
       "</div>"
      ],
      "text/plain": [
       "     PC                                          Suburbs\n",
       "0  3000                                    Melbourne Cbd\n",
       "1  3002                         East Melbourne, Jolimont\n",
       "2  3004                                        Melbourne\n",
       "3  3006                                        Southbank\n",
       "4  3011  Coode Island, Footscray, Footscray West, Seddon"
      ]
     },
     "execution_count": 23,
     "metadata": {},
     "output_type": "execute_result"
    }
   ],
   "source": [
    "df_suburbs.head()"
   ]
  },
  {
   "cell_type": "code",
   "execution_count": 24,
   "metadata": {
    "collapsed": true
   },
   "outputs": [],
   "source": [
    "# df_suburbs = df_suburbs.copy()"
   ]
  },
  {
   "cell_type": "code",
   "execution_count": 25,
   "metadata": {},
   "outputs": [
    {
     "data": {
      "text/html": [
       "<div>\n",
       "<style>\n",
       "    .dataframe thead tr:only-child th {\n",
       "        text-align: right;\n",
       "    }\n",
       "\n",
       "    .dataframe thead th {\n",
       "        text-align: left;\n",
       "    }\n",
       "\n",
       "    .dataframe tbody tr th {\n",
       "        vertical-align: top;\n",
       "    }\n",
       "</style>\n",
       "<table border=\"1\" class=\"dataframe\">\n",
       "  <thead>\n",
       "    <tr style=\"text-align: right;\">\n",
       "      <th></th>\n",
       "      <th>post_code</th>\n",
       "      <th>Suburbs</th>\n",
       "    </tr>\n",
       "  </thead>\n",
       "  <tbody>\n",
       "    <tr>\n",
       "      <th>0</th>\n",
       "      <td>3000</td>\n",
       "      <td>Melbourne Cbd</td>\n",
       "    </tr>\n",
       "    <tr>\n",
       "      <th>1</th>\n",
       "      <td>3002</td>\n",
       "      <td>East Melbourne, Jolimont</td>\n",
       "    </tr>\n",
       "    <tr>\n",
       "      <th>2</th>\n",
       "      <td>3004</td>\n",
       "      <td>Melbourne</td>\n",
       "    </tr>\n",
       "    <tr>\n",
       "      <th>3</th>\n",
       "      <td>3006</td>\n",
       "      <td>Southbank</td>\n",
       "    </tr>\n",
       "    <tr>\n",
       "      <th>4</th>\n",
       "      <td>3011</td>\n",
       "      <td>Coode Island, Footscray, Footscray West, Seddon</td>\n",
       "    </tr>\n",
       "  </tbody>\n",
       "</table>\n",
       "</div>"
      ],
      "text/plain": [
       "   post_code                                          Suburbs\n",
       "0       3000                                    Melbourne Cbd\n",
       "1       3002                         East Melbourne, Jolimont\n",
       "2       3004                                        Melbourne\n",
       "3       3006                                        Southbank\n",
       "4       3011  Coode Island, Footscray, Footscray West, Seddon"
      ]
     },
     "execution_count": 25,
     "metadata": {},
     "output_type": "execute_result"
    }
   ],
   "source": [
    "df_suburbs.columns = ['post_code', 'Suburbs']\n",
    "# df_suburbs = df_suburbs[['post_code', 'Suburbs']]\n",
    "df_suburbs.head()"
   ]
  },
  {
   "cell_type": "code",
   "execution_count": 26,
   "metadata": {},
   "outputs": [
    {
     "data": {
      "text/plain": [
       "post_code     int64\n",
       "Suburbs      object\n",
       "dtype: object"
      ]
     },
     "execution_count": 26,
     "metadata": {},
     "output_type": "execute_result"
    }
   ],
   "source": [
    "df_suburbs.dtypes"
   ]
  },
  {
   "cell_type": "code",
   "execution_count": 27,
   "metadata": {
    "collapsed": true
   },
   "outputs": [],
   "source": [
    "# df_suburbs['post_code'] = df_suburbs.post_code.astype(int)"
   ]
  },
  {
   "cell_type": "code",
   "execution_count": null,
   "metadata": {
    "collapsed": true
   },
   "outputs": [],
   "source": []
  },
  {
   "cell_type": "markdown",
   "metadata": {},
   "source": [
    "#  Adding the post code to the data"
   ]
  },
  {
   "cell_type": "code",
   "execution_count": 28,
   "metadata": {
    "collapsed": true
   },
   "outputs": [],
   "source": [
    "def lookup_prod(ip):\n",
    "    for row in df_suburbs.itertuples():\n",
    "        if ip in str(row.Suburbs):\n",
    "            return row.post_code\n",
    "    else:\n",
    "        return 'N/A'"
   ]
  },
  {
   "cell_type": "code",
   "execution_count": null,
   "metadata": {
    "collapsed": true
   },
   "outputs": [],
   "source": []
  },
  {
   "cell_type": "code",
   "execution_count": 29,
   "metadata": {},
   "outputs": [
    {
     "data": {
      "text/html": [
       "<div>\n",
       "<style>\n",
       "    .dataframe thead tr:only-child th {\n",
       "        text-align: right;\n",
       "    }\n",
       "\n",
       "    .dataframe thead th {\n",
       "        text-align: left;\n",
       "    }\n",
       "\n",
       "    .dataframe tbody tr th {\n",
       "        vertical-align: top;\n",
       "    }\n",
       "</style>\n",
       "<table border=\"1\" class=\"dataframe\">\n",
       "  <thead>\n",
       "    <tr style=\"text-align: right;\">\n",
       "      <th></th>\n",
       "      <th>STOP_NAME</th>\n",
       "      <th>address</th>\n",
       "      <th>phone_number</th>\n",
       "      <th>suburb</th>\n",
       "      <th>post_code</th>\n",
       "      <th>city</th>\n",
       "      <th>country</th>\n",
       "      <th>LATITUDE</th>\n",
       "      <th>LONGITUDE</th>\n",
       "      <th>type</th>\n",
       "      <th>suburb_name</th>\n",
       "    </tr>\n",
       "  </thead>\n",
       "  <tbody>\n",
       "    <tr>\n",
       "      <th>0</th>\n",
       "      <td>Moreland Railway Station</td>\n",
       "      <td></td>\n",
       "      <td></td>\n",
       "      <td></td>\n",
       "      <td>3058</td>\n",
       "      <td>Melbourne</td>\n",
       "      <td>Australia</td>\n",
       "      <td>-37.754485</td>\n",
       "      <td>144.961823</td>\n",
       "      <td>Train</td>\n",
       "      <td>Coburg</td>\n",
       "    </tr>\n",
       "    <tr>\n",
       "      <th>1</th>\n",
       "      <td>Anstey Railway Station</td>\n",
       "      <td></td>\n",
       "      <td></td>\n",
       "      <td></td>\n",
       "      <td>3055</td>\n",
       "      <td>Melbourne</td>\n",
       "      <td>Australia</td>\n",
       "      <td>-37.761242</td>\n",
       "      <td>144.960684</td>\n",
       "      <td>Train</td>\n",
       "      <td>Brunswick</td>\n",
       "    </tr>\n",
       "    <tr>\n",
       "      <th>2</th>\n",
       "      <td>Brunswick Railway Station</td>\n",
       "      <td></td>\n",
       "      <td></td>\n",
       "      <td></td>\n",
       "      <td>3055</td>\n",
       "      <td>Melbourne</td>\n",
       "      <td>Australia</td>\n",
       "      <td>-37.767721</td>\n",
       "      <td>144.959587</td>\n",
       "      <td>Train</td>\n",
       "      <td>Brunswick</td>\n",
       "    </tr>\n",
       "    <tr>\n",
       "      <th>3</th>\n",
       "      <td>Jewell Railway Station</td>\n",
       "      <td></td>\n",
       "      <td></td>\n",
       "      <td></td>\n",
       "      <td>3055</td>\n",
       "      <td>Melbourne</td>\n",
       "      <td>Australia</td>\n",
       "      <td>-37.774987</td>\n",
       "      <td>144.958717</td>\n",
       "      <td>Train</td>\n",
       "      <td>Brunswick</td>\n",
       "    </tr>\n",
       "    <tr>\n",
       "      <th>4</th>\n",
       "      <td>Royal Park Railway Station</td>\n",
       "      <td></td>\n",
       "      <td></td>\n",
       "      <td></td>\n",
       "      <td>3052</td>\n",
       "      <td>Melbourne</td>\n",
       "      <td>Australia</td>\n",
       "      <td>-37.781193</td>\n",
       "      <td>144.952301</td>\n",
       "      <td>Train</td>\n",
       "      <td>Parkville</td>\n",
       "    </tr>\n",
       "  </tbody>\n",
       "</table>\n",
       "</div>"
      ],
      "text/plain": [
       "                     STOP_NAME address phone_number suburb post_code  \\\n",
       "0    Moreland Railway Station                                   3058   \n",
       "1      Anstey Railway Station                                   3055   \n",
       "2   Brunswick Railway Station                                   3055   \n",
       "3      Jewell Railway Station                                   3055   \n",
       "4  Royal Park Railway Station                                   3052   \n",
       "\n",
       "        city    country   LATITUDE   LONGITUDE   type suburb_name  \n",
       "0  Melbourne  Australia -37.754485  144.961823  Train      Coburg  \n",
       "1  Melbourne  Australia -37.761242  144.960684  Train   Brunswick  \n",
       "2  Melbourne  Australia -37.767721  144.959587  Train   Brunswick  \n",
       "3  Melbourne  Australia -37.774987  144.958717  Train   Brunswick  \n",
       "4  Melbourne  Australia -37.781193  144.952301  Train   Parkville  "
      ]
     },
     "execution_count": 29,
     "metadata": {},
     "output_type": "execute_result"
    }
   ],
   "source": [
    "shapefile_dataframe['post_code'] = shapefile_dataframe['suburb_name'].apply(lookup_prod)\n",
    "shapefile_dataframe.head()"
   ]
  },
  {
   "cell_type": "code",
   "execution_count": 30,
   "metadata": {
    "collapsed": true
   },
   "outputs": [],
   "source": [
    "# shapefile_dataframe = shapefile_dataframe[['STOP_NAME','address','phone_number','suburb','post_code', 'city', 'country','LATITUDE', 'LONGITUDE', 'type']]\n",
    "# shapefile_dataframe.head()"
   ]
  },
  {
   "cell_type": "code",
   "execution_count": 31,
   "metadata": {},
   "outputs": [
    {
     "data": {
      "text/html": [
       "<div>\n",
       "<style>\n",
       "    .dataframe thead tr:only-child th {\n",
       "        text-align: right;\n",
       "    }\n",
       "\n",
       "    .dataframe thead th {\n",
       "        text-align: left;\n",
       "    }\n",
       "\n",
       "    .dataframe tbody tr th {\n",
       "        vertical-align: top;\n",
       "    }\n",
       "</style>\n",
       "<table border=\"1\" class=\"dataframe\">\n",
       "  <thead>\n",
       "    <tr style=\"text-align: right;\">\n",
       "      <th></th>\n",
       "      <th>STOP_NAME</th>\n",
       "      <th>address</th>\n",
       "      <th>phone_number</th>\n",
       "      <th>suburb</th>\n",
       "      <th>post_code</th>\n",
       "      <th>city</th>\n",
       "      <th>country</th>\n",
       "      <th>LATITUDE</th>\n",
       "      <th>LONGITUDE</th>\n",
       "      <th>type</th>\n",
       "      <th>suburb_name</th>\n",
       "    </tr>\n",
       "  </thead>\n",
       "  <tbody>\n",
       "  </tbody>\n",
       "</table>\n",
       "</div>"
      ],
      "text/plain": [
       "Empty DataFrame\n",
       "Columns: [STOP_NAME, address, phone_number, suburb, post_code, city, country, LATITUDE, LONGITUDE, type, suburb_name]\n",
       "Index: []"
      ]
     },
     "execution_count": 31,
     "metadata": {},
     "output_type": "execute_result"
    }
   ],
   "source": [
    "shapefile_dataframe[shapefile_dataframe['post_code'] .isnull()]"
   ]
  },
  {
   "cell_type": "code",
   "execution_count": 32,
   "metadata": {
    "collapsed": true
   },
   "outputs": [],
   "source": [
    "shapefile_dataframe['post_code'] = shapefile_dataframe['post_code'].apply(pd.to_numeric,errors='coerce')"
   ]
  },
  {
   "cell_type": "code",
   "execution_count": 33,
   "metadata": {
    "collapsed": true
   },
   "outputs": [],
   "source": [
    "# shapefile_dataframe = shapefile_dataframe.replace(np.nan, '', regex=True)"
   ]
  },
  {
   "cell_type": "code",
   "execution_count": 34,
   "metadata": {
    "collapsed": true
   },
   "outputs": [],
   "source": [
    "# shapefile_dataframe['post_code'] = shapefile_dataframe['post_code'].astype(str)\n",
    "\n",
    "shapefile_dataframe['post_code'] = shapefile_dataframe['post_code'].fillna(0).astype(int)"
   ]
  },
  {
   "cell_type": "code",
   "execution_count": null,
   "metadata": {
    "collapsed": true
   },
   "outputs": [],
   "source": []
  },
  {
   "cell_type": "code",
   "execution_count": 35,
   "metadata": {},
   "outputs": [
    {
     "data": {
      "text/plain": [
       "STOP_NAME        object\n",
       "address          object\n",
       "phone_number     object\n",
       "suburb           object\n",
       "post_code         int32\n",
       "city             object\n",
       "country          object\n",
       "LATITUDE        float64\n",
       "LONGITUDE       float64\n",
       "type             object\n",
       "suburb_name      object\n",
       "dtype: object"
      ]
     },
     "execution_count": 35,
     "metadata": {},
     "output_type": "execute_result"
    }
   ],
   "source": [
    "shapefile_dataframe.dtypes"
   ]
  },
  {
   "cell_type": "code",
   "execution_count": 36,
   "metadata": {
    "collapsed": true
   },
   "outputs": [],
   "source": [
    "shapefile_dataframe.to_csv('C:/Users/Mohit Monpara/Desktop/IE/New Data Sources/check_train_station_locations_PTV.csv')"
   ]
  },
  {
   "cell_type": "code",
   "execution_count": null,
   "metadata": {
    "collapsed": true
   },
   "outputs": [],
   "source": []
  },
  {
   "cell_type": "markdown",
   "metadata": {},
   "source": [
    "#  after manual addition of some of the suburb"
   ]
  },
  {
   "cell_type": "code",
   "execution_count": 37,
   "metadata": {
    "collapsed": true
   },
   "outputs": [],
   "source": [
    "shapefile_dataframe = pd.read_csv('C:/Users/Mohit Monpara/Desktop/IE/New Data Sources/authorised locations/check_train_station_locations_PTV.csv')"
   ]
  },
  {
   "cell_type": "code",
   "execution_count": 38,
   "metadata": {},
   "outputs": [
    {
     "data": {
      "text/plain": [
       "Unnamed: 0        int64\n",
       "STOP_NAME        object\n",
       "address         float64\n",
       "phone_number    float64\n",
       "suburb          float64\n",
       "post_code         int64\n",
       "city             object\n",
       "country          object\n",
       "LATITUDE        float64\n",
       "LONGITUDE       float64\n",
       "type             object\n",
       "suburb_name      object\n",
       "dtype: object"
      ]
     },
     "execution_count": 38,
     "metadata": {},
     "output_type": "execute_result"
    }
   ],
   "source": [
    "shapefile_dataframe.dtypes"
   ]
  },
  {
   "cell_type": "code",
   "execution_count": 39,
   "metadata": {
    "collapsed": true
   },
   "outputs": [],
   "source": [
    "shapefile_dataframe = shapefile_dataframe.replace(np.nan, '', regex=True)"
   ]
  },
  {
   "cell_type": "code",
   "execution_count": 40,
   "metadata": {},
   "outputs": [
    {
     "data": {
      "text/html": [
       "<div>\n",
       "<style>\n",
       "    .dataframe thead tr:only-child th {\n",
       "        text-align: right;\n",
       "    }\n",
       "\n",
       "    .dataframe thead th {\n",
       "        text-align: left;\n",
       "    }\n",
       "\n",
       "    .dataframe tbody tr th {\n",
       "        vertical-align: top;\n",
       "    }\n",
       "</style>\n",
       "<table border=\"1\" class=\"dataframe\">\n",
       "  <thead>\n",
       "    <tr style=\"text-align: right;\">\n",
       "      <th></th>\n",
       "      <th>STOP_NAME</th>\n",
       "      <th>address</th>\n",
       "      <th>phone_number</th>\n",
       "      <th>suburb</th>\n",
       "      <th>post_code</th>\n",
       "      <th>city</th>\n",
       "      <th>country</th>\n",
       "      <th>LATITUDE</th>\n",
       "      <th>LONGITUDE</th>\n",
       "      <th>type</th>\n",
       "    </tr>\n",
       "  </thead>\n",
       "  <tbody>\n",
       "    <tr>\n",
       "      <th>0</th>\n",
       "      <td>Moreland Railway Station</td>\n",
       "      <td></td>\n",
       "      <td></td>\n",
       "      <td></td>\n",
       "      <td>3058</td>\n",
       "      <td>Melbourne</td>\n",
       "      <td>Australia</td>\n",
       "      <td>-37.754485</td>\n",
       "      <td>144.961823</td>\n",
       "      <td>Train</td>\n",
       "    </tr>\n",
       "    <tr>\n",
       "      <th>1</th>\n",
       "      <td>Anstey Railway Station</td>\n",
       "      <td></td>\n",
       "      <td></td>\n",
       "      <td></td>\n",
       "      <td>3055</td>\n",
       "      <td>Melbourne</td>\n",
       "      <td>Australia</td>\n",
       "      <td>-37.761242</td>\n",
       "      <td>144.960684</td>\n",
       "      <td>Train</td>\n",
       "    </tr>\n",
       "    <tr>\n",
       "      <th>2</th>\n",
       "      <td>Brunswick Railway Station</td>\n",
       "      <td></td>\n",
       "      <td></td>\n",
       "      <td></td>\n",
       "      <td>3055</td>\n",
       "      <td>Melbourne</td>\n",
       "      <td>Australia</td>\n",
       "      <td>-37.767721</td>\n",
       "      <td>144.959587</td>\n",
       "      <td>Train</td>\n",
       "    </tr>\n",
       "    <tr>\n",
       "      <th>3</th>\n",
       "      <td>Jewell Railway Station</td>\n",
       "      <td></td>\n",
       "      <td></td>\n",
       "      <td></td>\n",
       "      <td>3055</td>\n",
       "      <td>Melbourne</td>\n",
       "      <td>Australia</td>\n",
       "      <td>-37.774987</td>\n",
       "      <td>144.958717</td>\n",
       "      <td>Train</td>\n",
       "    </tr>\n",
       "    <tr>\n",
       "      <th>4</th>\n",
       "      <td>Royal Park Railway Station</td>\n",
       "      <td></td>\n",
       "      <td></td>\n",
       "      <td></td>\n",
       "      <td>3052</td>\n",
       "      <td>Melbourne</td>\n",
       "      <td>Australia</td>\n",
       "      <td>-37.781193</td>\n",
       "      <td>144.952301</td>\n",
       "      <td>Train</td>\n",
       "    </tr>\n",
       "  </tbody>\n",
       "</table>\n",
       "</div>"
      ],
      "text/plain": [
       "                     STOP_NAME address phone_number suburb  post_code  \\\n",
       "0    Moreland Railway Station                                    3058   \n",
       "1      Anstey Railway Station                                    3055   \n",
       "2   Brunswick Railway Station                                    3055   \n",
       "3      Jewell Railway Station                                    3055   \n",
       "4  Royal Park Railway Station                                    3052   \n",
       "\n",
       "        city    country   LATITUDE   LONGITUDE   type  \n",
       "0  Melbourne  Australia -37.754485  144.961823  Train  \n",
       "1  Melbourne  Australia -37.761242  144.960684  Train  \n",
       "2  Melbourne  Australia -37.767721  144.959587  Train  \n",
       "3  Melbourne  Australia -37.774987  144.958717  Train  \n",
       "4  Melbourne  Australia -37.781193  144.952301  Train  "
      ]
     },
     "execution_count": 40,
     "metadata": {},
     "output_type": "execute_result"
    }
   ],
   "source": [
    "shapefile_dataframe = shapefile_dataframe[['STOP_NAME','address','phone_number','suburb','post_code', 'city', 'country','LATITUDE', 'LONGITUDE', 'type']]\n",
    "shapefile_dataframe.head()"
   ]
  },
  {
   "cell_type": "code",
   "execution_count": 41,
   "metadata": {},
   "outputs": [
    {
     "data": {
      "text/plain": [
       "(217, 10)"
      ]
     },
     "execution_count": 41,
     "metadata": {},
     "output_type": "execute_result"
    }
   ],
   "source": [
    "shapefile_dataframe.shape"
   ]
  },
  {
   "cell_type": "code",
   "execution_count": null,
   "metadata": {
    "collapsed": true
   },
   "outputs": [],
   "source": []
  },
  {
   "cell_type": "markdown",
   "metadata": {
    "collapsed": true
   },
   "source": [
    "### Merging the files with the original file containing Police and hospital locations"
   ]
  },
  {
   "cell_type": "code",
   "execution_count": 42,
   "metadata": {},
   "outputs": [
    {
     "data": {
      "text/plain": [
       "STOP_NAME        object\n",
       "address          object\n",
       "phone_number     object\n",
       "suburb           object\n",
       "post_code         int64\n",
       "city             object\n",
       "country          object\n",
       "LATITUDE        float64\n",
       "LONGITUDE       float64\n",
       "type             object\n",
       "dtype: object"
      ]
     },
     "execution_count": 42,
     "metadata": {},
     "output_type": "execute_result"
    }
   ],
   "source": [
    "shapefile_dataframe.dtypes"
   ]
  },
  {
   "cell_type": "code",
   "execution_count": 43,
   "metadata": {},
   "outputs": [
    {
     "data": {
      "text/plain": [
       "display_name     object\n",
       "address          object\n",
       "phone_number     object\n",
       "suburb           object\n",
       "post_code         int64\n",
       "city             object\n",
       "country          object\n",
       "lat             float64\n",
       "lon             float64\n",
       "type             object\n",
       "dtype: object"
      ]
     },
     "execution_count": 43,
     "metadata": {},
     "output_type": "execute_result"
    }
   ],
   "source": [
    "shapefile_dataframe.columns = ['display_name','address','phone_number','suburb','post_code', 'city', 'country','lat', 'lon', 'type']\n",
    "shapefile_dataframe.dtypes"
   ]
  },
  {
   "cell_type": "code",
   "execution_count": 44,
   "metadata": {
    "collapsed": true
   },
   "outputs": [],
   "source": [
    "df_all = pd.read_csv('C:/Users/Mohit Monpara/Desktop/IE/Lost and found items/Locations/Final_authorise_locations_with_displayname_modification_iteration3.csv')"
   ]
  },
  {
   "cell_type": "code",
   "execution_count": 45,
   "metadata": {
    "collapsed": true
   },
   "outputs": [],
   "source": [
    "df_all.drop('location_id', axis=1, inplace=True)"
   ]
  },
  {
   "cell_type": "code",
   "execution_count": 46,
   "metadata": {},
   "outputs": [
    {
     "data": {
      "text/plain": [
       "display_name     object\n",
       "address          object\n",
       "phone_number    float64\n",
       "suburb          float64\n",
       "post_code         int64\n",
       "city             object\n",
       "country          object\n",
       "lat             float64\n",
       "lon             float64\n",
       "type             object\n",
       "dtype: object"
      ]
     },
     "execution_count": 46,
     "metadata": {},
     "output_type": "execute_result"
    }
   ],
   "source": [
    "df_all.dtypes"
   ]
  },
  {
   "cell_type": "code",
   "execution_count": 47,
   "metadata": {},
   "outputs": [
    {
     "data": {
      "text/plain": [
       "(390, 10)"
      ]
     },
     "execution_count": 47,
     "metadata": {},
     "output_type": "execute_result"
    }
   ],
   "source": [
    "df_all.shape"
   ]
  },
  {
   "cell_type": "code",
   "execution_count": 48,
   "metadata": {
    "scrolled": false
   },
   "outputs": [
    {
     "data": {
      "text/html": [
       "<div>\n",
       "<style>\n",
       "    .dataframe thead tr:only-child th {\n",
       "        text-align: right;\n",
       "    }\n",
       "\n",
       "    .dataframe thead th {\n",
       "        text-align: left;\n",
       "    }\n",
       "\n",
       "    .dataframe tbody tr th {\n",
       "        vertical-align: top;\n",
       "    }\n",
       "</style>\n",
       "<table border=\"1\" class=\"dataframe\">\n",
       "  <thead>\n",
       "    <tr style=\"text-align: right;\">\n",
       "      <th></th>\n",
       "      <th>display_name</th>\n",
       "      <th>address</th>\n",
       "      <th>phone_number</th>\n",
       "      <th>suburb</th>\n",
       "      <th>post_code</th>\n",
       "      <th>city</th>\n",
       "      <th>country</th>\n",
       "      <th>lat</th>\n",
       "      <th>lon</th>\n",
       "      <th>type</th>\n",
       "    </tr>\n",
       "  </thead>\n",
       "  <tbody>\n",
       "  </tbody>\n",
       "</table>\n",
       "</div>"
      ],
      "text/plain": [
       "Empty DataFrame\n",
       "Columns: [display_name, address, phone_number, suburb, post_code, city, country, lat, lon, type]\n",
       "Index: []"
      ]
     },
     "execution_count": 48,
     "metadata": {},
     "output_type": "execute_result"
    }
   ],
   "source": [
    "df_all[df_all['type'] == 'Train']"
   ]
  },
  {
   "cell_type": "code",
   "execution_count": 49,
   "metadata": {
    "collapsed": true
   },
   "outputs": [],
   "source": [
    "df = df_all.append(shapefile_dataframe)"
   ]
  },
  {
   "cell_type": "code",
   "execution_count": 50,
   "metadata": {
    "collapsed": true
   },
   "outputs": [],
   "source": [
    "df['location_id'] = range(1, len(df) + 1)"
   ]
  },
  {
   "cell_type": "code",
   "execution_count": 51,
   "metadata": {},
   "outputs": [
    {
     "data": {
      "text/plain": [
       "(607, 11)"
      ]
     },
     "execution_count": 51,
     "metadata": {},
     "output_type": "execute_result"
    }
   ],
   "source": [
    "df.shape"
   ]
  },
  {
   "cell_type": "code",
   "execution_count": 52,
   "metadata": {
    "collapsed": true
   },
   "outputs": [],
   "source": [
    "df = df[['location_id','display_name','address','phone_number','suburb','post_code', 'city', 'country','lat', 'lon', 'type']]"
   ]
  },
  {
   "cell_type": "code",
   "execution_count": 53,
   "metadata": {
    "collapsed": true
   },
   "outputs": [],
   "source": [
    "df = df.replace(np.nan, '', regex=True)"
   ]
  },
  {
   "cell_type": "code",
   "execution_count": 54,
   "metadata": {},
   "outputs": [
    {
     "data": {
      "text/html": [
       "<div>\n",
       "<style>\n",
       "    .dataframe thead tr:only-child th {\n",
       "        text-align: right;\n",
       "    }\n",
       "\n",
       "    .dataframe thead th {\n",
       "        text-align: left;\n",
       "    }\n",
       "\n",
       "    .dataframe tbody tr th {\n",
       "        vertical-align: top;\n",
       "    }\n",
       "</style>\n",
       "<table border=\"1\" class=\"dataframe\">\n",
       "  <thead>\n",
       "    <tr style=\"text-align: right;\">\n",
       "      <th></th>\n",
       "      <th>location_id</th>\n",
       "      <th>display_name</th>\n",
       "      <th>address</th>\n",
       "      <th>phone_number</th>\n",
       "      <th>suburb</th>\n",
       "      <th>post_code</th>\n",
       "      <th>city</th>\n",
       "      <th>country</th>\n",
       "      <th>lat</th>\n",
       "      <th>lon</th>\n",
       "      <th>type</th>\n",
       "    </tr>\n",
       "  </thead>\n",
       "  <tbody>\n",
       "    <tr>\n",
       "      <th>0</th>\n",
       "      <td>1</td>\n",
       "      <td>Railway Parade</td>\n",
       "      <td></td>\n",
       "      <td></td>\n",
       "      <td></td>\n",
       "      <td>3023</td>\n",
       "      <td>Melbourne</td>\n",
       "      <td>Australia</td>\n",
       "      <td>-37.776937</td>\n",
       "      <td>144.770583</td>\n",
       "      <td>Police</td>\n",
       "    </tr>\n",
       "    <tr>\n",
       "      <th>1</th>\n",
       "      <td>2</td>\n",
       "      <td>Craigieburn</td>\n",
       "      <td></td>\n",
       "      <td></td>\n",
       "      <td></td>\n",
       "      <td>3064</td>\n",
       "      <td>Melbourne</td>\n",
       "      <td>Australia</td>\n",
       "      <td>-37.598677</td>\n",
       "      <td>144.933149</td>\n",
       "      <td>Police</td>\n",
       "    </tr>\n",
       "    <tr>\n",
       "      <th>2</th>\n",
       "      <td>3</td>\n",
       "      <td>Victoria Police Forensic Services</td>\n",
       "      <td></td>\n",
       "      <td></td>\n",
       "      <td></td>\n",
       "      <td>3081</td>\n",
       "      <td>Melbourne</td>\n",
       "      <td>Australia</td>\n",
       "      <td>-37.725108</td>\n",
       "      <td>145.058055</td>\n",
       "      <td>Police</td>\n",
       "    </tr>\n",
       "    <tr>\n",
       "      <th>3</th>\n",
       "      <td>4</td>\n",
       "      <td>Bacchus Marsh Police Station</td>\n",
       "      <td></td>\n",
       "      <td></td>\n",
       "      <td></td>\n",
       "      <td>3340</td>\n",
       "      <td>Melbourne</td>\n",
       "      <td>Australia</td>\n",
       "      <td>-37.675758</td>\n",
       "      <td>144.435951</td>\n",
       "      <td>Police</td>\n",
       "    </tr>\n",
       "    <tr>\n",
       "      <th>4</th>\n",
       "      <td>5</td>\n",
       "      <td>Meredith Police Station</td>\n",
       "      <td></td>\n",
       "      <td></td>\n",
       "      <td></td>\n",
       "      <td>3333</td>\n",
       "      <td>Melbourne</td>\n",
       "      <td>Australia</td>\n",
       "      <td>-37.846519</td>\n",
       "      <td>144.075991</td>\n",
       "      <td>Police</td>\n",
       "    </tr>\n",
       "  </tbody>\n",
       "</table>\n",
       "</div>"
      ],
      "text/plain": [
       "   location_id                       display_name address phone_number suburb  \\\n",
       "0            1                     Railway Parade                               \n",
       "1            2                        Craigieburn                               \n",
       "2            3  Victoria Police Forensic Services                               \n",
       "3            4       Bacchus Marsh Police Station                               \n",
       "4            5            Meredith Police Station                               \n",
       "\n",
       "   post_code       city     country        lat         lon    type  \n",
       "0       3023  Melbourne   Australia -37.776937  144.770583  Police  \n",
       "1       3064  Melbourne   Australia -37.598677  144.933149  Police  \n",
       "2       3081  Melbourne   Australia -37.725108  145.058055  Police  \n",
       "3       3340  Melbourne   Australia -37.675758  144.435951  Police  \n",
       "4       3333  Melbourne   Australia -37.846519  144.075991  Police  "
      ]
     },
     "execution_count": 54,
     "metadata": {},
     "output_type": "execute_result"
    }
   ],
   "source": [
    "df.head()"
   ]
  },
  {
   "cell_type": "code",
   "execution_count": 55,
   "metadata": {
    "collapsed": true
   },
   "outputs": [],
   "source": [
    "df.to_csv('C:/Users/Mohit Monpara/Desktop/IE/New Data Sources/authorised locations/Final_authorised_locations.csv')"
   ]
  },
  {
   "cell_type": "code",
   "execution_count": null,
   "metadata": {
    "collapsed": true
   },
   "outputs": [],
   "source": []
  }
 ],
 "metadata": {
  "kernelspec": {
   "display_name": "Python 3",
   "language": "python",
   "name": "python3"
  },
  "language_info": {
   "codemirror_mode": {
    "name": "ipython",
    "version": 3
   },
   "file_extension": ".py",
   "mimetype": "text/x-python",
   "name": "python",
   "nbconvert_exporter": "python",
   "pygments_lexer": "ipython3",
   "version": "3.6.3"
  }
 },
 "nbformat": 4,
 "nbformat_minor": 2
}
